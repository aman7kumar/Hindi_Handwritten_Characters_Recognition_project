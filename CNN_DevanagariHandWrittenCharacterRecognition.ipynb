{
 "cells": [
  {
   "cell_type": "markdown",
   "metadata": {},
   "source": [
    "## Checking for GPU"
   ]
  },
  {
   "cell_type": "code",
   "execution_count": 1,
   "metadata": {},
   "outputs": [
    {
     "name": "stdout",
     "output_type": "stream",
     "text": [
      "WARNING:tensorflow:From C:\\Users\\ASUS\\AppData\\Roaming\\Python\\Python311\\site-packages\\keras\\src\\losses.py:2976: The name tf.losses.sparse_softmax_cross_entropy is deprecated. Please use tf.compat.v1.losses.sparse_softmax_cross_entropy instead.\n",
      "\n",
      "TensorFlow Version: 2.15.0\n"
     ]
    },
    {
     "name": "stderr",
     "output_type": "stream",
     "text": [
      "C:\\Users\\ASUS\\AppData\\Local\\Temp\\ipykernel_12208\\2432987752.py:6: DeprecationWarning: distutils Version classes are deprecated. Use packaging.version instead.\n",
      "  assert LooseVersion(tf.__version__) >= LooseVersion('1.0'), 'Please use TensorFlow version 1.0 or newer.  You are using {}'.format(tf.__version__)\n",
      "C:\\Users\\ASUS\\AppData\\Local\\Temp\\ipykernel_12208\\2432987752.py:11: UserWarning: No GPU found. Please ensure you have installed TensorFlow correctly\n",
      "  warnings.warn('No GPU found. Please ensure you have installed TensorFlow correctly')\n"
     ]
    }
   ],
   "source": [
    "from distutils.version import LooseVersion\n",
    "import warnings\n",
    "import tensorflow as tf\n",
    "\n",
    "# Check TensorFlow Version\n",
    "assert LooseVersion(tf.__version__) >= LooseVersion('1.0'), 'Please use TensorFlow version 1.0 or newer.  You are using {}'.format(tf.__version__)\n",
    "print('TensorFlow Version: {}'.format(tf.__version__))\n",
    "\n",
    "# Check for a GPU\n",
    "if not tf.test.gpu_device_name():\n",
    "    warnings.warn('No GPU found. Please ensure you have installed TensorFlow correctly')\n",
    "else:\n",
    "    print('Default GPU Device: {}'.format(tf.test.gpu_device_name()))"
   ]
  },
  {
   "cell_type": "markdown",
   "metadata": {},
   "source": [
    "## Creating the CNN model"
   ]
  },
  {
   "cell_type": "code",
   "execution_count": 2,
   "metadata": {},
   "outputs": [],
   "source": [
    "from keras.models import Sequential\n",
    "from keras.layers import Conv2D, MaxPooling2D, Flatten, Dense, Dropout"
   ]
  },
  {
   "cell_type": "code",
   "execution_count": 3,
   "metadata": {},
   "outputs": [
    {
     "name": "stdout",
     "output_type": "stream",
     "text": [
      "WARNING:tensorflow:From C:\\Users\\ASUS\\AppData\\Roaming\\Python\\Python311\\site-packages\\keras\\src\\backend.py:873: The name tf.get_default_graph is deprecated. Please use tf.compat.v1.get_default_graph instead.\n",
      "\n",
      "WARNING:tensorflow:From C:\\Users\\ASUS\\AppData\\Roaming\\Python\\Python311\\site-packages\\keras\\src\\layers\\pooling\\max_pooling2d.py:161: The name tf.nn.max_pool is deprecated. Please use tf.nn.max_pool2d instead.\n",
      "\n",
      "WARNING:tensorflow:From C:\\Users\\ASUS\\AppData\\Roaming\\Python\\Python311\\site-packages\\keras\\src\\optimizers\\__init__.py:309: The name tf.train.Optimizer is deprecated. Please use tf.compat.v1.train.Optimizer instead.\n",
      "\n"
     ]
    }
   ],
   "source": [
    "classifier = Sequential()\n",
    "\n",
    "classifier.add(Conv2D(filters = 32, kernel_size = (3, 3), activation = 'relu', input_shape = (32, 32, 3)))\n",
    "classifier.add(Conv2D(filters = 64, kernel_size = (3, 3), activation = 'relu'))\n",
    "classifier.add(MaxPooling2D(pool_size = (2, 2)))\n",
    "classifier.add(Conv2D(filters = 64, kernel_size = (3, 3), activation = 'relu'))\n",
    "classifier.add(Conv2D(filters = 64, kernel_size = (3, 3), activation = 'relu'))\n",
    "classifier.add(MaxPooling2D(pool_size = (2, 2)))\n",
    "classifier.add(Dropout(.2))\n",
    "\n",
    "classifier.add(Flatten())\n",
    "\n",
    "classifier.add(Dense(units = 128, activation = 'relu'))\n",
    "classifier.add(Dropout(.2))\n",
    "\n",
    "classifier.add(Dense(units = 46, activation = 'softmax'))\n",
    "\n",
    "classifier.compile(optimizer = 'adam', loss = 'categorical_crossentropy', metrics = ['accuracy'])"
   ]
  },
  {
   "cell_type": "markdown",
   "metadata": {},
   "source": [
    "## Fitting the CNN model to the Dataset"
   ]
  },
  {
   "cell_type": "code",
   "execution_count": 4,
   "metadata": {},
   "outputs": [],
   "source": [
    "from keras.preprocessing.image import ImageDataGenerator\n",
    "from PIL import ImageFile"
   ]
  },
  {
   "cell_type": "code",
   "execution_count": 5,
   "metadata": {},
   "outputs": [
    {
     "name": "stdout",
     "output_type": "stream",
     "text": [
      "Found 20922 images belonging to 46 classes.\n",
      "Found 5214 images belonging to 46 classes.\n"
     ]
    }
   ],
   "source": [
    "ImageFile.LOAD_TRUNCATED_IMAGES = True\n",
    "\n",
    "train_datagen = ImageDataGenerator(rescale = 1/255, shear_range = .2, rotation_range = 25)\n",
    "test_datagen = ImageDataGenerator(rescale = 1/255)\n",
    "\n",
    "training_set = train_datagen.flow_from_directory('Dataset/Train', target_size = (32, 32), \n",
    "                                                 batch_size = 256, class_mode = 'categorical')\n",
    "test_set = test_datagen.flow_from_directory('Dataset/Test', target_size = (32, 32), \n",
    "                                                 batch_size = 256, class_mode = 'categorical')"
   ]
  },
  {
   "cell_type": "code",
   "execution_count": 6,
   "metadata": {},
   "outputs": [
    {
     "name": "stdout",
     "output_type": "stream",
     "text": [
      "Epoch 1/25\n",
      "WARNING:tensorflow:From C:\\Users\\ASUS\\AppData\\Roaming\\Python\\Python311\\site-packages\\keras\\src\\utils\\tf_utils.py:492: The name tf.ragged.RaggedTensorValue is deprecated. Please use tf.compat.v1.ragged.RaggedTensorValue instead.\n",
      "\n",
      "WARNING:tensorflow:From C:\\Users\\ASUS\\AppData\\Roaming\\Python\\Python311\\site-packages\\keras\\src\\engine\\base_layer_utils.py:384: The name tf.executing_eagerly_outside_functions is deprecated. Please use tf.compat.v1.executing_eagerly_outside_functions instead.\n",
      "\n",
      "82/82 [==============================] - 64s 775ms/step - loss: 2.2587 - accuracy: 0.3780 - val_loss: 9.1461 - val_accuracy: 0.0113\n",
      "Epoch 2/25\n",
      "82/82 [==============================] - 26s 315ms/step - loss: 0.3708 - accuracy: 0.8835 - val_loss: 9.8387 - val_accuracy: 0.0104\n",
      "Epoch 3/25\n",
      "82/82 [==============================] - 25s 304ms/step - loss: 0.1558 - accuracy: 0.9499 - val_loss: 10.5064 - val_accuracy: 0.0290\n",
      "Epoch 4/25\n",
      "82/82 [==============================] - 25s 301ms/step - loss: 0.1022 - accuracy: 0.9661 - val_loss: 10.1380 - val_accuracy: 0.0215\n",
      "Epoch 5/25\n",
      "82/82 [==============================] - 27s 327ms/step - loss: 0.0783 - accuracy: 0.9740 - val_loss: 9.7516 - val_accuracy: 0.0389\n",
      "Epoch 6/25\n",
      "82/82 [==============================] - 26s 321ms/step - loss: 0.0555 - accuracy: 0.9822 - val_loss: 9.6065 - val_accuracy: 0.0351\n",
      "Epoch 7/25\n",
      "82/82 [==============================] - 28s 343ms/step - loss: 0.0449 - accuracy: 0.9849 - val_loss: 9.8199 - val_accuracy: 0.0374\n",
      "Epoch 8/25\n",
      "82/82 [==============================] - 29s 353ms/step - loss: 0.0373 - accuracy: 0.9874 - val_loss: 11.0367 - val_accuracy: 0.0370\n",
      "Epoch 9/25\n",
      "82/82 [==============================] - 27s 329ms/step - loss: 0.0323 - accuracy: 0.9896 - val_loss: 11.5500 - val_accuracy: 0.0355\n",
      "Epoch 10/25\n",
      "82/82 [==============================] - 28s 334ms/step - loss: 0.0302 - accuracy: 0.9909 - val_loss: 9.3426 - val_accuracy: 0.0570\n",
      "Epoch 11/25\n",
      "82/82 [==============================] - 26s 318ms/step - loss: 0.0275 - accuracy: 0.9910 - val_loss: 11.7806 - val_accuracy: 0.0387\n",
      "Epoch 12/25\n",
      "82/82 [==============================] - 28s 339ms/step - loss: 0.0256 - accuracy: 0.9915 - val_loss: 10.7920 - val_accuracy: 0.0512\n",
      "Epoch 13/25\n",
      "82/82 [==============================] - 26s 320ms/step - loss: 0.0215 - accuracy: 0.9924 - val_loss: 11.0796 - val_accuracy: 0.0414\n",
      "Epoch 14/25\n",
      "82/82 [==============================] - 27s 334ms/step - loss: 0.0213 - accuracy: 0.9932 - val_loss: 11.0112 - val_accuracy: 0.0466\n",
      "Epoch 15/25\n",
      "82/82 [==============================] - 26s 318ms/step - loss: 0.0213 - accuracy: 0.9929 - val_loss: 11.1500 - val_accuracy: 0.0497\n",
      "Epoch 16/25\n",
      "82/82 [==============================] - 27s 326ms/step - loss: 0.0180 - accuracy: 0.9945 - val_loss: 11.3416 - val_accuracy: 0.0458\n",
      "Epoch 17/25\n",
      "82/82 [==============================] - 29s 348ms/step - loss: 0.0179 - accuracy: 0.9942 - val_loss: 12.1339 - val_accuracy: 0.0564\n",
      "Epoch 18/25\n",
      "82/82 [==============================] - 28s 338ms/step - loss: 0.0179 - accuracy: 0.9942 - val_loss: 11.8652 - val_accuracy: 0.0347\n",
      "Epoch 19/25\n",
      "82/82 [==============================] - 29s 355ms/step - loss: 0.0135 - accuracy: 0.9955 - val_loss: 12.2632 - val_accuracy: 0.0464\n",
      "Epoch 20/25\n",
      "82/82 [==============================] - 27s 329ms/step - loss: 0.0153 - accuracy: 0.9954 - val_loss: 10.7907 - val_accuracy: 0.0669\n",
      "Epoch 21/25\n",
      "82/82 [==============================] - 28s 345ms/step - loss: 0.0128 - accuracy: 0.9963 - val_loss: 12.7549 - val_accuracy: 0.0520\n",
      "Epoch 22/25\n",
      "82/82 [==============================] - 26s 322ms/step - loss: 0.0134 - accuracy: 0.9957 - val_loss: 13.4817 - val_accuracy: 0.0468\n",
      "Epoch 23/25\n",
      "82/82 [==============================] - 27s 335ms/step - loss: 0.0092 - accuracy: 0.9972 - val_loss: 12.1637 - val_accuracy: 0.0577\n",
      "Epoch 24/25\n",
      "82/82 [==============================] - 27s 325ms/step - loss: 0.0115 - accuracy: 0.9964 - val_loss: 11.0359 - val_accuracy: 0.0717\n",
      "Epoch 25/25\n",
      "82/82 [==============================] - 26s 316ms/step - loss: 0.0137 - accuracy: 0.9953 - val_loss: 11.5192 - val_accuracy: 0.0543\n"
     ]
    }
   ],
   "source": [
    "history = classifier.fit(training_set, epochs = 25,\n",
    "                        validation_data = test_set)"
   ]
  },
  {
   "cell_type": "markdown",
   "metadata": {},
   "source": [
    "## Summary of Network"
   ]
  },
  {
   "cell_type": "code",
   "execution_count": 7,
   "metadata": {
    "scrolled": false
   },
   "outputs": [
    {
     "name": "stdout",
     "output_type": "stream",
     "text": [
      "Model: \"sequential\"\n",
      "_________________________________________________________________\n",
      " Layer (type)                Output Shape              Param #   \n",
      "=================================================================\n",
      " conv2d (Conv2D)             (None, 30, 30, 32)        896       \n",
      "                                                                 \n",
      " conv2d_1 (Conv2D)           (None, 28, 28, 64)        18496     \n",
      "                                                                 \n",
      " max_pooling2d (MaxPooling2  (None, 14, 14, 64)        0         \n",
      " D)                                                              \n",
      "                                                                 \n",
      " conv2d_2 (Conv2D)           (None, 12, 12, 64)        36928     \n",
      "                                                                 \n",
      " conv2d_3 (Conv2D)           (None, 10, 10, 64)        36928     \n",
      "                                                                 \n",
      " max_pooling2d_1 (MaxPoolin  (None, 5, 5, 64)          0         \n",
      " g2D)                                                            \n",
      "                                                                 \n",
      " dropout (Dropout)           (None, 5, 5, 64)          0         \n",
      "                                                                 \n",
      " flatten (Flatten)           (None, 1600)              0         \n",
      "                                                                 \n",
      " dense (Dense)               (None, 128)               204928    \n",
      "                                                                 \n",
      " dropout_1 (Dropout)         (None, 128)               0         \n",
      "                                                                 \n",
      " dense_1 (Dense)             (None, 46)                5934      \n",
      "                                                                 \n",
      "=================================================================\n",
      "Total params: 304110 (1.16 MB)\n",
      "Trainable params: 304110 (1.16 MB)\n",
      "Non-trainable params: 0 (0.00 Byte)\n",
      "_________________________________________________________________\n"
     ]
    }
   ],
   "source": [
    "classifier.summary()"
   ]
  },
  {
   "cell_type": "markdown",
   "metadata": {},
   "source": [
    "## Accuracy"
   ]
  },
  {
   "cell_type": "code",
   "execution_count": 8,
   "metadata": {},
   "outputs": [
    {
     "name": "stdout",
     "output_type": "stream",
     "text": [
      "82/82 [==============================] - 20s 246ms/step - loss: 7.4259e-04 - accuracy: 0.9999\n",
      "Accuracy: 99.99%\n"
     ]
    }
   ],
   "source": [
    "scores = classifier.evaluate(training_set)\n",
    "print(\"Accuracy: %.2f%%\" % (scores[1]*100))"
   ]
  },
  {
   "cell_type": "code",
   "execution_count": 2,
   "metadata": {},
   "outputs": [
    {
     "ename": "NameError",
     "evalue": "name 'history' is not defined",
     "output_type": "error",
     "traceback": [
      "\u001b[1;31m---------------------------------------------------------------------------\u001b[0m",
      "\u001b[1;31mNameError\u001b[0m                                 Traceback (most recent call last)",
      "Cell \u001b[1;32mIn[2], line 3\u001b[0m\n\u001b[0;32m      1\u001b[0m \u001b[38;5;66;03m# summarize history for accuracy\u001b[39;00m\n\u001b[0;32m      2\u001b[0m \u001b[38;5;28;01mimport\u001b[39;00m \u001b[38;5;21;01mmatplotlib\u001b[39;00m\u001b[38;5;21;01m.\u001b[39;00m\u001b[38;5;21;01mpyplot\u001b[39;00m \u001b[38;5;28;01mas\u001b[39;00m \u001b[38;5;21;01mplt\u001b[39;00m\n\u001b[1;32m----> 3\u001b[0m plt\u001b[38;5;241m.\u001b[39mplot(history\u001b[38;5;241m.\u001b[39mhistory[\u001b[38;5;124m'\u001b[39m\u001b[38;5;124maccuracy\u001b[39m\u001b[38;5;124m'\u001b[39m])\n\u001b[0;32m      4\u001b[0m plt\u001b[38;5;241m.\u001b[39mplot(history\u001b[38;5;241m.\u001b[39mhistory[\u001b[38;5;124m'\u001b[39m\u001b[38;5;124mval_accuracy\u001b[39m\u001b[38;5;124m'\u001b[39m])\n\u001b[0;32m      5\u001b[0m plt\u001b[38;5;241m.\u001b[39mtitle(\u001b[38;5;124m'\u001b[39m\u001b[38;5;124mmodel accuracy\u001b[39m\u001b[38;5;124m'\u001b[39m)\n",
      "\u001b[1;31mNameError\u001b[0m: name 'history' is not defined"
     ]
    }
   ],
   "source": [
    "# summarize history for accuracy\n",
    "import matplotlib.pyplot as plt\n",
    "plt.plot(history.history['accuracy'])\n",
    "plt.plot(history.history['val_accuracy'])\n",
    "plt.title('model accuracy')\n",
    "plt.ylabel('accuracy')\n",
    "plt.xlabel('epoch')\n",
    "plt.legend(['train', 'test'], loc='upper left')\n",
    "plt.show()\n",
    "# summarize history for loss\n",
    "plt.plot(history.history['loss'])\n",
    "plt.plot(history.history['val_loss'])\n",
    "plt.title('model loss')\n",
    "plt.ylabel('loss')\n",
    "plt.xlabel('epoch')\n",
    "plt.legend(['train', 'test'], loc='upper left')\n",
    "plt.show()"
   ]
  },
  {
   "cell_type": "code",
   "execution_count": null,
   "metadata": {},
   "outputs": [
    {
     "ename": "NameError",
     "evalue": "name 'history' is not defined",
     "output_type": "error",
     "traceback": [
      "\u001b[1;31m---------------------------------------------------------------------------\u001b[0m\n",
      "\u001b[1;31mNameError\u001b[0m                                 Traceback (most recent call last)\n",
      "Cell \u001b[1;32mIn[2], line 3\u001b[0m\n",
      "\u001b[0;32m      1\u001b[0m \u001b[38;5;66;03m# summarize history for accuracy\u001b[39;00m\n",
      "\u001b[0;32m      2\u001b[0m \u001b[38;5;28;01mimport\u001b[39;00m \u001b[38;5;21;01mmatplotlib\u001b[39;00m\u001b[38;5;21;01m.\u001b[39;00m\u001b[38;5;21;01mpyplot\u001b[39;00m \u001b[38;5;28;01mas\u001b[39;00m \u001b[38;5;21;01mplt\u001b[39;00m\n",
      "\u001b[1;32m----> 3\u001b[0m plt\u001b[38;5;241m.\u001b[39mplot(history\u001b[38;5;241m.\u001b[39mhistory[\u001b[38;5;124m'\u001b[39m\u001b[38;5;124maccuracy\u001b[39m\u001b[38;5;124m'\u001b[39m])\n",
      "\u001b[0;32m      4\u001b[0m plt\u001b[38;5;241m.\u001b[39mplot(history\u001b[38;5;241m.\u001b[39mhistory[\u001b[38;5;124m'\u001b[39m\u001b[38;5;124mval_accuracy\u001b[39m\u001b[38;5;124m'\u001b[39m])\n",
      "\u001b[0;32m      5\u001b[0m plt\u001b[38;5;241m.\u001b[39mtitle(\u001b[38;5;124m'\u001b[39m\u001b[38;5;124mmodel accuracy\u001b[39m\u001b[38;5;124m'\u001b[39m)\n",
      "\n",
      "\u001b[1;31mNameError\u001b[0m: name 'history' is not defined"
     ]
    }
   ],
   "source": [
    "# summarize history for accuracy\n",
    "import matplotlib.pyplot as plt\n",
    "plt.plot(history.history['accuracy'])\n",
    "plt.plot(history.history['val_accuracy'])\n",
    "plt.title('model accuracy')\n",
    "plt.ylabel('accuracy')\n",
    "plt.xlabel('epoch')\n",
    "plt.legend(['train', 'test'], loc='upper left')\n",
    "plt.show()\n",
    "# summarize history for loss\n",
    "plt.plot(history.history['loss'])\n",
    "plt.plot(history.history['val_loss'])\n",
    "plt.title('model loss')\n",
    "plt.ylabel('loss')\n",
    "plt.xlabel('epoch')\n",
    "plt.legend(['train', 'test'], loc='upper left')\n",
    "plt.show()"
   ]
  },
  {
   "cell_type": "code",
   "execution_count": null,
   "metadata": {},
   "outputs": [
    {
     "ename": "NameError",
     "evalue": "name 'history' is not defined",
     "output_type": "error",
     "traceback": [
      "\u001b[1;31m---------------------------------------------------------------------------\u001b[0m\n",
      "\u001b[1;31mNameError\u001b[0m                                 Traceback (most recent call last)\n",
      "Cell \u001b[1;32mIn[2], line 3\u001b[0m\n",
      "\u001b[0;32m      1\u001b[0m \u001b[38;5;66;03m# summarize history for accuracy\u001b[39;00m\n",
      "\u001b[0;32m      2\u001b[0m \u001b[38;5;28;01mimport\u001b[39;00m \u001b[38;5;21;01mmatplotlib\u001b[39;00m\u001b[38;5;21;01m.\u001b[39;00m\u001b[38;5;21;01mpyplot\u001b[39;00m \u001b[38;5;28;01mas\u001b[39;00m \u001b[38;5;21;01mplt\u001b[39;00m\n",
      "\u001b[1;32m----> 3\u001b[0m plt\u001b[38;5;241m.\u001b[39mplot(history\u001b[38;5;241m.\u001b[39mhistory[\u001b[38;5;124m'\u001b[39m\u001b[38;5;124maccuracy\u001b[39m\u001b[38;5;124m'\u001b[39m])\n",
      "\u001b[0;32m      4\u001b[0m plt\u001b[38;5;241m.\u001b[39mplot(history\u001b[38;5;241m.\u001b[39mhistory[\u001b[38;5;124m'\u001b[39m\u001b[38;5;124mval_accuracy\u001b[39m\u001b[38;5;124m'\u001b[39m])\n",
      "\u001b[0;32m      5\u001b[0m plt\u001b[38;5;241m.\u001b[39mtitle(\u001b[38;5;124m'\u001b[39m\u001b[38;5;124mmodel accuracy\u001b[39m\u001b[38;5;124m'\u001b[39m)\n",
      "\n",
      "\u001b[1;31mNameError\u001b[0m: name 'history' is not defined"
     ]
    }
   ],
   "source": [
    "# summarize history for accuracy\n",
    "import matplotlib.pyplot as plt\n",
    "plt.plot(history.history['accuracy'])\n",
    "plt.plot(history.history['val_accuracy'])\n",
    "plt.title('model accuracy')\n",
    "plt.ylabel('accuracy')\n",
    "plt.xlabel('epoch')\n",
    "plt.legend(['train', 'test'], loc='upper left')\n",
    "plt.show()\n",
    "# summarize history for loss\n",
    "plt.plot(history.history['loss'])\n",
    "plt.plot(history.history['val_loss'])\n",
    "plt.title('model loss')\n",
    "plt.ylabel('loss')\n",
    "plt.xlabel('epoch')\n",
    "plt.legend(['train', 'test'], loc='upper left')\n",
    "plt.show()"
   ]
  },
  {
   "cell_type": "code",
   "execution_count": null,
   "metadata": {},
   "outputs": [
    {
     "ename": "NameError",
     "evalue": "name 'history' is not defined",
     "output_type": "error",
     "traceback": [
      "\u001b[1;31m---------------------------------------------------------------------------\u001b[0m\n",
      "\u001b[1;31mNameError\u001b[0m                                 Traceback (most recent call last)\n",
      "Cell \u001b[1;32mIn[2], line 3\u001b[0m\n",
      "\u001b[0;32m      1\u001b[0m \u001b[38;5;66;03m# summarize history for accuracy\u001b[39;00m\n",
      "\u001b[0;32m      2\u001b[0m \u001b[38;5;28;01mimport\u001b[39;00m \u001b[38;5;21;01mmatplotlib\u001b[39;00m\u001b[38;5;21;01m.\u001b[39;00m\u001b[38;5;21;01mpyplot\u001b[39;00m \u001b[38;5;28;01mas\u001b[39;00m \u001b[38;5;21;01mplt\u001b[39;00m\n",
      "\u001b[1;32m----> 3\u001b[0m plt\u001b[38;5;241m.\u001b[39mplot(history\u001b[38;5;241m.\u001b[39mhistory[\u001b[38;5;124m'\u001b[39m\u001b[38;5;124maccuracy\u001b[39m\u001b[38;5;124m'\u001b[39m])\n",
      "\u001b[0;32m      4\u001b[0m plt\u001b[38;5;241m.\u001b[39mplot(history\u001b[38;5;241m.\u001b[39mhistory[\u001b[38;5;124m'\u001b[39m\u001b[38;5;124mval_accuracy\u001b[39m\u001b[38;5;124m'\u001b[39m])\n",
      "\u001b[0;32m      5\u001b[0m plt\u001b[38;5;241m.\u001b[39mtitle(\u001b[38;5;124m'\u001b[39m\u001b[38;5;124mmodel accuracy\u001b[39m\u001b[38;5;124m'\u001b[39m)\n",
      "\n",
      "\u001b[1;31mNameError\u001b[0m: name 'history' is not defined"
     ]
    }
   ],
   "source": [
    "# summarize history for accuracy\n",
    "import matplotlib.pyplot as plt\n",
    "plt.plot(history.history['accuracy'])\n",
    "plt.plot(history.history['val_accuracy'])\n",
    "plt.title('model accuracy')\n",
    "plt.ylabel('accuracy')\n",
    "plt.xlabel('epoch')\n",
    "plt.legend(['train', 'test'], loc='upper left')\n",
    "plt.show()\n",
    "# summarize history for loss\n",
    "plt.plot(history.history['loss'])\n",
    "plt.plot(history.history['val_loss'])\n",
    "plt.title('model loss')\n",
    "plt.ylabel('loss')\n",
    "plt.xlabel('epoch')\n",
    "plt.legend(['train', 'test'], loc='upper left')\n",
    "plt.show()"
   ]
  },
  {
   "cell_type": "code",
   "execution_count": null,
   "metadata": {},
   "outputs": [
    {
     "ename": "NameError",
     "evalue": "name 'history' is not defined",
     "output_type": "error",
     "traceback": [
      "\u001b[1;31m---------------------------------------------------------------------------\u001b[0m\n",
      "\u001b[1;31mNameError\u001b[0m                                 Traceback (most recent call last)\n",
      "Cell \u001b[1;32mIn[2], line 3\u001b[0m\n",
      "\u001b[0;32m      1\u001b[0m \u001b[38;5;66;03m# summarize history for accuracy\u001b[39;00m\n",
      "\u001b[0;32m      2\u001b[0m \u001b[38;5;28;01mimport\u001b[39;00m \u001b[38;5;21;01mmatplotlib\u001b[39;00m\u001b[38;5;21;01m.\u001b[39;00m\u001b[38;5;21;01mpyplot\u001b[39;00m \u001b[38;5;28;01mas\u001b[39;00m \u001b[38;5;21;01mplt\u001b[39;00m\n",
      "\u001b[1;32m----> 3\u001b[0m plt\u001b[38;5;241m.\u001b[39mplot(history\u001b[38;5;241m.\u001b[39mhistory[\u001b[38;5;124m'\u001b[39m\u001b[38;5;124maccuracy\u001b[39m\u001b[38;5;124m'\u001b[39m])\n",
      "\u001b[0;32m      4\u001b[0m plt\u001b[38;5;241m.\u001b[39mplot(history\u001b[38;5;241m.\u001b[39mhistory[\u001b[38;5;124m'\u001b[39m\u001b[38;5;124mval_accuracy\u001b[39m\u001b[38;5;124m'\u001b[39m])\n",
      "\u001b[0;32m      5\u001b[0m plt\u001b[38;5;241m.\u001b[39mtitle(\u001b[38;5;124m'\u001b[39m\u001b[38;5;124mmodel accuracy\u001b[39m\u001b[38;5;124m'\u001b[39m)\n",
      "\n",
      "\u001b[1;31mNameError\u001b[0m: name 'history' is not defined"
     ]
    }
   ],
   "source": [
    "# summarize history for accuracy\n",
    "import matplotlib.pyplot as plt\n",
    "plt.plot(history.history['accuracy'])\n",
    "plt.plot(history.history['val_accuracy'])\n",
    "plt.title('model accuracy')\n",
    "plt.ylabel('accuracy')\n",
    "plt.xlabel('epoch')\n",
    "plt.legend(['train', 'test'], loc='upper left')\n",
    "plt.show()\n",
    "# summarize history for loss\n",
    "plt.plot(history.history['loss'])\n",
    "plt.plot(history.history['val_loss'])\n",
    "plt.title('model loss')\n",
    "plt.ylabel('loss')\n",
    "plt.xlabel('epoch')\n",
    "plt.legend(['train', 'test'], loc='upper left')\n",
    "plt.show()"
   ]
  },
  {
   "cell_type": "code",
   "execution_count": null,
   "metadata": {},
   "outputs": [
    {
     "ename": "NameError",
     "evalue": "name 'history' is not defined",
     "output_type": "error",
     "traceback": [
      "\u001b[1;31m---------------------------------------------------------------------------\u001b[0m\n",
      "\u001b[1;31mNameError\u001b[0m                                 Traceback (most recent call last)\n",
      "Cell \u001b[1;32mIn[2], line 3\u001b[0m\n",
      "\u001b[0;32m      1\u001b[0m \u001b[38;5;66;03m# summarize history for accuracy\u001b[39;00m\n",
      "\u001b[0;32m      2\u001b[0m \u001b[38;5;28;01mimport\u001b[39;00m \u001b[38;5;21;01mmatplotlib\u001b[39;00m\u001b[38;5;21;01m.\u001b[39;00m\u001b[38;5;21;01mpyplot\u001b[39;00m \u001b[38;5;28;01mas\u001b[39;00m \u001b[38;5;21;01mplt\u001b[39;00m\n",
      "\u001b[1;32m----> 3\u001b[0m plt\u001b[38;5;241m.\u001b[39mplot(history\u001b[38;5;241m.\u001b[39mhistory[\u001b[38;5;124m'\u001b[39m\u001b[38;5;124maccuracy\u001b[39m\u001b[38;5;124m'\u001b[39m])\n",
      "\u001b[0;32m      4\u001b[0m plt\u001b[38;5;241m.\u001b[39mplot(history\u001b[38;5;241m.\u001b[39mhistory[\u001b[38;5;124m'\u001b[39m\u001b[38;5;124mval_accuracy\u001b[39m\u001b[38;5;124m'\u001b[39m])\n",
      "\u001b[0;32m      5\u001b[0m plt\u001b[38;5;241m.\u001b[39mtitle(\u001b[38;5;124m'\u001b[39m\u001b[38;5;124mmodel accuracy\u001b[39m\u001b[38;5;124m'\u001b[39m)\n",
      "\n",
      "\u001b[1;31mNameError\u001b[0m: name 'history' is not defined"
     ]
    }
   ],
   "source": [
    "# summarize history for accuracy\n",
    "import matplotlib.pyplot as plt\n",
    "plt.plot(history.history['accuracy'])\n",
    "plt.plot(history.history['val_accuracy'])\n",
    "plt.title('model accuracy')\n",
    "plt.ylabel('accuracy')\n",
    "plt.xlabel('epoch')\n",
    "plt.legend(['train', 'test'], loc='upper left')\n",
    "plt.show()\n",
    "# summarize history for loss\n",
    "plt.plot(history.history['loss'])\n",
    "plt.plot(history.history['val_loss'])\n",
    "plt.title('model loss')\n",
    "plt.ylabel('loss')\n",
    "plt.xlabel('epoch')\n",
    "plt.legend(['train', 'test'], loc='upper left')\n",
    "plt.show()"
   ]
  },
  {
   "cell_type": "code",
   "execution_count": null,
   "metadata": {},
   "outputs": [
    {
     "ename": "NameError",
     "evalue": "name 'history' is not defined",
     "output_type": "error",
     "traceback": [
      "\u001b[1;31m---------------------------------------------------------------------------\u001b[0m\n",
      "\u001b[1;31mNameError\u001b[0m                                 Traceback (most recent call last)\n",
      "Cell \u001b[1;32mIn[2], line 3\u001b[0m\n",
      "\u001b[0;32m      1\u001b[0m \u001b[38;5;66;03m# summarize history for accuracy\u001b[39;00m\n",
      "\u001b[0;32m      2\u001b[0m \u001b[38;5;28;01mimport\u001b[39;00m \u001b[38;5;21;01mmatplotlib\u001b[39;00m\u001b[38;5;21;01m.\u001b[39;00m\u001b[38;5;21;01mpyplot\u001b[39;00m \u001b[38;5;28;01mas\u001b[39;00m \u001b[38;5;21;01mplt\u001b[39;00m\n",
      "\u001b[1;32m----> 3\u001b[0m plt\u001b[38;5;241m.\u001b[39mplot(history\u001b[38;5;241m.\u001b[39mhistory[\u001b[38;5;124m'\u001b[39m\u001b[38;5;124maccuracy\u001b[39m\u001b[38;5;124m'\u001b[39m])\n",
      "\u001b[0;32m      4\u001b[0m plt\u001b[38;5;241m.\u001b[39mplot(history\u001b[38;5;241m.\u001b[39mhistory[\u001b[38;5;124m'\u001b[39m\u001b[38;5;124mval_accuracy\u001b[39m\u001b[38;5;124m'\u001b[39m])\n",
      "\u001b[0;32m      5\u001b[0m plt\u001b[38;5;241m.\u001b[39mtitle(\u001b[38;5;124m'\u001b[39m\u001b[38;5;124mmodel accuracy\u001b[39m\u001b[38;5;124m'\u001b[39m)\n",
      "\n",
      "\u001b[1;31mNameError\u001b[0m: name 'history' is not defined"
     ]
    }
   ],
   "source": [
    "# summarize history for accuracy\n",
    "import matplotlib.pyplot as plt\n",
    "plt.plot(history.history['accuracy'])\n",
    "plt.plot(history.history['val_accuracy'])\n",
    "plt.title('model accuracy')\n",
    "plt.ylabel('accuracy')\n",
    "plt.xlabel('epoch')\n",
    "plt.legend(['train', 'test'], loc='upper left')\n",
    "plt.show()\n",
    "# summarize history for loss\n",
    "plt.plot(history.history['loss'])\n",
    "plt.plot(history.history['val_loss'])\n",
    "plt.title('model loss')\n",
    "plt.ylabel('loss')\n",
    "plt.xlabel('epoch')\n",
    "plt.legend(['train', 'test'], loc='upper left')\n",
    "plt.show()"
   ]
  },
  {
   "cell_type": "code",
   "execution_count": null,
   "metadata": {},
   "outputs": [
    {
     "ename": "NameError",
     "evalue": "name 'history' is not defined",
     "output_type": "error",
     "traceback": [
      "\u001b[1;31m---------------------------------------------------------------------------\u001b[0m\n",
      "\u001b[1;31mNameError\u001b[0m                                 Traceback (most recent call last)\n",
      "Cell \u001b[1;32mIn[2], line 3\u001b[0m\n",
      "\u001b[0;32m      1\u001b[0m \u001b[38;5;66;03m# summarize history for accuracy\u001b[39;00m\n",
      "\u001b[0;32m      2\u001b[0m \u001b[38;5;28;01mimport\u001b[39;00m \u001b[38;5;21;01mmatplotlib\u001b[39;00m\u001b[38;5;21;01m.\u001b[39;00m\u001b[38;5;21;01mpyplot\u001b[39;00m \u001b[38;5;28;01mas\u001b[39;00m \u001b[38;5;21;01mplt\u001b[39;00m\n",
      "\u001b[1;32m----> 3\u001b[0m plt\u001b[38;5;241m.\u001b[39mplot(history\u001b[38;5;241m.\u001b[39mhistory[\u001b[38;5;124m'\u001b[39m\u001b[38;5;124maccuracy\u001b[39m\u001b[38;5;124m'\u001b[39m])\n",
      "\u001b[0;32m      4\u001b[0m plt\u001b[38;5;241m.\u001b[39mplot(history\u001b[38;5;241m.\u001b[39mhistory[\u001b[38;5;124m'\u001b[39m\u001b[38;5;124mval_accuracy\u001b[39m\u001b[38;5;124m'\u001b[39m])\n",
      "\u001b[0;32m      5\u001b[0m plt\u001b[38;5;241m.\u001b[39mtitle(\u001b[38;5;124m'\u001b[39m\u001b[38;5;124mmodel accuracy\u001b[39m\u001b[38;5;124m'\u001b[39m)\n",
      "\n",
      "\u001b[1;31mNameError\u001b[0m: name 'history' is not defined"
     ]
    }
   ],
   "source": [
    "# summarize history for accuracy\n",
    "import matplotlib.pyplot as plt\n",
    "plt.plot(history.history['accuracy'])\n",
    "plt.plot(history.history['val_accuracy'])\n",
    "plt.title('model accuracy')\n",
    "plt.ylabel('accuracy')\n",
    "plt.xlabel('epoch')\n",
    "plt.legend(['train', 'test'], loc='upper left')\n",
    "plt.show()\n",
    "# summarize history for loss\n",
    "plt.plot(history.history['loss'])\n",
    "plt.plot(history.history['val_loss'])\n",
    "plt.title('model loss')\n",
    "plt.ylabel('loss')\n",
    "plt.xlabel('epoch')\n",
    "plt.legend(['train', 'test'], loc='upper left')\n",
    "plt.show()"
   ]
  },
  {
   "cell_type": "code",
   "execution_count": null,
   "metadata": {},
   "outputs": [
    {
     "ename": "NameError",
     "evalue": "name 'plt' is not defined",
     "output_type": "error",
     "traceback": [
      "\u001b[1;31m---------------------------------------------------------------------------\u001b[0m\n",
      "\u001b[1;31mNameError\u001b[0m                                 Traceback (most recent call last)\n",
      "Cell \u001b[1;32mIn[9], line 2\u001b[0m\n",
      "\u001b[0;32m      1\u001b[0m \u001b[38;5;66;03m# summarize history for accuracy\u001b[39;00m\n",
      "\u001b[1;32m----> 2\u001b[0m plt\u001b[38;5;241m.\u001b[39mplot(history\u001b[38;5;241m.\u001b[39mhistory[\u001b[38;5;124m'\u001b[39m\u001b[38;5;124maccuracy\u001b[39m\u001b[38;5;124m'\u001b[39m])\n",
      "\u001b[0;32m      3\u001b[0m plt\u001b[38;5;241m.\u001b[39mplot(history\u001b[38;5;241m.\u001b[39mhistory[\u001b[38;5;124m'\u001b[39m\u001b[38;5;124mval_accuracy\u001b[39m\u001b[38;5;124m'\u001b[39m])\n",
      "\u001b[0;32m      4\u001b[0m plt\u001b[38;5;241m.\u001b[39mtitle(\u001b[38;5;124m'\u001b[39m\u001b[38;5;124mmodel accuracy\u001b[39m\u001b[38;5;124m'\u001b[39m)\n",
      "\n",
      "\u001b[1;31mNameError\u001b[0m: name 'plt' is not defined"
     ]
    }
   ],
   "source": [
    "# summarize history for accuracy\n",
    "plt.plot(history.history['accuracy'])\n",
    "plt.plot(history.history['val_accuracy'])\n",
    "plt.title('model accuracy')\n",
    "plt.ylabel('accuracy')\n",
    "plt.xlabel('epoch')\n",
    "plt.legend(['train', 'test'], loc='upper left')\n",
    "plt.show()\n",
    "# summarize history for loss\n",
    "plt.plot(history.history['loss'])\n",
    "plt.plot(history.history['val_loss'])\n",
    "plt.title('model loss')\n",
    "plt.ylabel('loss')\n",
    "plt.xlabel('epoch')\n",
    "plt.legend(['train', 'test'], loc='upper left')\n",
    "plt.show()"
   ]
  },
  {
   "cell_type": "code",
   "execution_count": null,
   "metadata": {},
   "outputs": [
    {
     "ename": "NameError",
     "evalue": "name 'plt' is not defined",
     "output_type": "error",
     "traceback": [
      "\u001b[1;31m---------------------------------------------------------------------------\u001b[0m\n",
      "\u001b[1;31mNameError\u001b[0m                                 Traceback (most recent call last)\n",
      "Cell \u001b[1;32mIn[9], line 2\u001b[0m\n",
      "\u001b[0;32m      1\u001b[0m \u001b[38;5;66;03m# summarize history for accuracy\u001b[39;00m\n",
      "\u001b[1;32m----> 2\u001b[0m plt\u001b[38;5;241m.\u001b[39mplot(history\u001b[38;5;241m.\u001b[39mhistory[\u001b[38;5;124m'\u001b[39m\u001b[38;5;124maccuracy\u001b[39m\u001b[38;5;124m'\u001b[39m])\n",
      "\u001b[0;32m      3\u001b[0m plt\u001b[38;5;241m.\u001b[39mplot(history\u001b[38;5;241m.\u001b[39mhistory[\u001b[38;5;124m'\u001b[39m\u001b[38;5;124mval_accuracy\u001b[39m\u001b[38;5;124m'\u001b[39m])\n",
      "\u001b[0;32m      4\u001b[0m plt\u001b[38;5;241m.\u001b[39mtitle(\u001b[38;5;124m'\u001b[39m\u001b[38;5;124mmodel accuracy\u001b[39m\u001b[38;5;124m'\u001b[39m)\n",
      "\n",
      "\u001b[1;31mNameError\u001b[0m: name 'plt' is not defined"
     ]
    }
   ],
   "source": [
    "# summarize history for accuracy\n",
    "plt.plot(history.history['accuracy'])\n",
    "plt.plot(history.history['val_accuracy'])\n",
    "plt.title('model accuracy')\n",
    "plt.ylabel('accuracy')\n",
    "plt.xlabel('epoch')\n",
    "plt.legend(['train', 'test'], loc='upper left')\n",
    "plt.show()\n",
    "# summarize history for loss\n",
    "plt.plot(history.history['loss'])\n",
    "plt.plot(history.history['val_loss'])\n",
    "plt.title('model loss')\n",
    "plt.ylabel('loss')\n",
    "plt.xlabel('epoch')\n",
    "plt.legend(['train', 'test'], loc='upper left')\n",
    "plt.show()"
   ]
  },
  {
   "cell_type": "code",
   "execution_count": null,
   "metadata": {},
   "outputs": [
    {
     "ename": "NameError",
     "evalue": "name 'plt' is not defined",
     "output_type": "error",
     "traceback": [
      "\u001b[1;31m---------------------------------------------------------------------------\u001b[0m\n",
      "\u001b[1;31mNameError\u001b[0m                                 Traceback (most recent call last)\n",
      "Cell \u001b[1;32mIn[9], line 2\u001b[0m\n",
      "\u001b[0;32m      1\u001b[0m \u001b[38;5;66;03m# summarize history for accuracy\u001b[39;00m\n",
      "\u001b[1;32m----> 2\u001b[0m plt\u001b[38;5;241m.\u001b[39mplot(history\u001b[38;5;241m.\u001b[39mhistory[\u001b[38;5;124m'\u001b[39m\u001b[38;5;124maccuracy\u001b[39m\u001b[38;5;124m'\u001b[39m])\n",
      "\u001b[0;32m      3\u001b[0m plt\u001b[38;5;241m.\u001b[39mplot(history\u001b[38;5;241m.\u001b[39mhistory[\u001b[38;5;124m'\u001b[39m\u001b[38;5;124mval_accuracy\u001b[39m\u001b[38;5;124m'\u001b[39m])\n",
      "\u001b[0;32m      4\u001b[0m plt\u001b[38;5;241m.\u001b[39mtitle(\u001b[38;5;124m'\u001b[39m\u001b[38;5;124mmodel accuracy\u001b[39m\u001b[38;5;124m'\u001b[39m)\n",
      "\n",
      "\u001b[1;31mNameError\u001b[0m: name 'plt' is not defined"
     ]
    }
   ],
   "source": [
    "# summarize history for accuracy\n",
    "plt.plot(history.history['accuracy'])\n",
    "plt.plot(history.history['val_accuracy'])\n",
    "plt.title('model accuracy')\n",
    "plt.ylabel('accuracy')\n",
    "plt.xlabel('epoch')\n",
    "plt.legend(['train', 'test'], loc='upper left')\n",
    "plt.show()\n",
    "# summarize history for loss\n",
    "plt.plot(history.history['loss'])\n",
    "plt.plot(history.history['val_loss'])\n",
    "plt.title('model loss')\n",
    "plt.ylabel('loss')\n",
    "plt.xlabel('epoch')\n",
    "plt.legend(['train', 'test'], loc='upper left')\n",
    "plt.show()"
   ]
  },
  {
   "cell_type": "code",
   "execution_count": null,
   "metadata": {},
   "outputs": [
    {
     "ename": "NameError",
     "evalue": "name 'plt' is not defined",
     "output_type": "error",
     "traceback": [
      "\u001b[1;31m---------------------------------------------------------------------------\u001b[0m\n",
      "\u001b[1;31mNameError\u001b[0m                                 Traceback (most recent call last)\n",
      "Cell \u001b[1;32mIn[9], line 2\u001b[0m\n",
      "\u001b[0;32m      1\u001b[0m \u001b[38;5;66;03m# summarize history for accuracy\u001b[39;00m\n",
      "\u001b[1;32m----> 2\u001b[0m plt\u001b[38;5;241m.\u001b[39mplot(history\u001b[38;5;241m.\u001b[39mhistory[\u001b[38;5;124m'\u001b[39m\u001b[38;5;124maccuracy\u001b[39m\u001b[38;5;124m'\u001b[39m])\n",
      "\u001b[0;32m      3\u001b[0m plt\u001b[38;5;241m.\u001b[39mplot(history\u001b[38;5;241m.\u001b[39mhistory[\u001b[38;5;124m'\u001b[39m\u001b[38;5;124mval_accuracy\u001b[39m\u001b[38;5;124m'\u001b[39m])\n",
      "\u001b[0;32m      4\u001b[0m plt\u001b[38;5;241m.\u001b[39mtitle(\u001b[38;5;124m'\u001b[39m\u001b[38;5;124mmodel accuracy\u001b[39m\u001b[38;5;124m'\u001b[39m)\n",
      "\n",
      "\u001b[1;31mNameError\u001b[0m: name 'plt' is not defined"
     ]
    }
   ],
   "source": [
    "# summarize history for accuracy\n",
    "plt.plot(history.history['accuracy'])\n",
    "plt.plot(history.history['val_accuracy'])\n",
    "plt.title('model accuracy')\n",
    "plt.ylabel('accuracy')\n",
    "plt.xlabel('epoch')\n",
    "plt.legend(['train', 'test'], loc='upper left')\n",
    "plt.show()\n",
    "# summarize history for loss\n",
    "plt.plot(history.history['loss'])\n",
    "plt.plot(history.history['val_loss'])\n",
    "plt.title('model loss')\n",
    "plt.ylabel('loss')\n",
    "plt.xlabel('epoch')\n",
    "plt.legend(['train', 'test'], loc='upper left')\n",
    "plt.show()"
   ]
  },
  {
   "cell_type": "code",
   "execution_count": null,
   "metadata": {},
   "outputs": [
    {
     "ename": "NameError",
     "evalue": "name 'plt' is not defined",
     "output_type": "error",
     "traceback": [
      "\u001b[1;31m---------------------------------------------------------------------------\u001b[0m\n",
      "\u001b[1;31mNameError\u001b[0m                                 Traceback (most recent call last)\n",
      "Cell \u001b[1;32mIn[9], line 2\u001b[0m\n",
      "\u001b[0;32m      1\u001b[0m \u001b[38;5;66;03m# summarize history for accuracy\u001b[39;00m\n",
      "\u001b[1;32m----> 2\u001b[0m plt\u001b[38;5;241m.\u001b[39mplot(history\u001b[38;5;241m.\u001b[39mhistory[\u001b[38;5;124m'\u001b[39m\u001b[38;5;124maccuracy\u001b[39m\u001b[38;5;124m'\u001b[39m])\n",
      "\u001b[0;32m      3\u001b[0m plt\u001b[38;5;241m.\u001b[39mplot(history\u001b[38;5;241m.\u001b[39mhistory[\u001b[38;5;124m'\u001b[39m\u001b[38;5;124mval_accuracy\u001b[39m\u001b[38;5;124m'\u001b[39m])\n",
      "\u001b[0;32m      4\u001b[0m plt\u001b[38;5;241m.\u001b[39mtitle(\u001b[38;5;124m'\u001b[39m\u001b[38;5;124mmodel accuracy\u001b[39m\u001b[38;5;124m'\u001b[39m)\n",
      "\n",
      "\u001b[1;31mNameError\u001b[0m: name 'plt' is not defined"
     ]
    }
   ],
   "source": [
    "# summarize history for accuracy\n",
    "plt.plot(history.history['accuracy'])\n",
    "plt.plot(history.history['val_accuracy'])\n",
    "plt.title('model accuracy')\n",
    "plt.ylabel('accuracy')\n",
    "plt.xlabel('epoch')\n",
    "plt.legend(['train', 'test'], loc='upper left')\n",
    "plt.show()\n",
    "# summarize history for loss\n",
    "plt.plot(history.history['loss'])\n",
    "plt.plot(history.history['val_loss'])\n",
    "plt.title('model loss')\n",
    "plt.ylabel('loss')\n",
    "plt.xlabel('epoch')\n",
    "plt.legend(['train', 'test'], loc='upper left')\n",
    "plt.show()"
   ]
  },
  {
   "cell_type": "code",
   "execution_count": null,
   "metadata": {},
   "outputs": [],
   "source": []
  },
  {
   "cell_type": "markdown",
   "metadata": {},
   "source": [
    "## Saving the model"
   ]
  },
  {
   "cell_type": "code",
   "execution_count": null,
   "metadata": {
    "scrolled": true
   },
   "outputs": [],
   "source": [
    "classifier_json = classifier.to_json()\n",
    "\n",
    "with open(\"CNN_DevanagariHandWrittenCharacterRecognition.json\", \"w\") as json_file:\n",
    "    json_file.write(classifier_json)\n",
    "    \n",
    "classifier.save_weights(\"CNN_DevanagariHandWrittenCharacterRecognition.h5\")\n",
    "print('Saved model to disk')"
   ]
  },
  {
   "cell_type": "markdown",
   "metadata": {},
   "source": [
    "## Checking the data labels predicted"
   ]
  },
  {
   "cell_type": "code",
   "execution_count": null,
   "metadata": {},
   "outputs": [],
   "source": [
    "training_set.class_indices"
   ]
  },
  {
   "cell_type": "markdown",
   "metadata": {},
   "source": [
    "## Creating a graphical user interface to draw the character"
   ]
  },
  {
   "cell_type": "code",
   "execution_count": null,
   "metadata": {},
   "outputs": [],
   "source": [
    "import PIL\n",
    "from PIL import ImageTk, ImageDraw, Image, ImageOps\n",
    "from tkinter import *\n",
    "from keras.preprocessing import image\n",
    "import os"
   ]
  },
  {
   "cell_type": "markdown",
   "metadata": {},
   "source": [
    "### Function to determine the character according to the max value predicted in the numpy array"
   ]
  },
  {
   "cell_type": "code",
   "execution_count": null,
   "metadata": {},
   "outputs": [],
   "source": [
    "def determine_character(res,acc):\n",
    "    print(res)\n",
    "    if res == 0:\n",
    "        print('prediction : क')\n",
    "        character.configure(text= 'क,')\n",
    "        accuracy.configure(text=str(acc) + '%')\n",
    "    elif res == 1:\n",
    "        print('prediction : ख')\n",
    "        character.configure(text= 'ख,')\n",
    "        accuracy.configure(text=str(acc) + '%')\n",
    "    \n",
    "    elif res == 2:\n",
    "        print('prediction : ग')\n",
    "        character.configure(text= 'ग,')\n",
    "        accuracy.configure(text=str(acc) + '%')\n",
    "    \n",
    "    elif res == 3:\n",
    "        print('prediction : घ')\n",
    "        character.configure(text= 'घ,')\n",
    "        accuracy.configure(text=str(acc) + '%')        \n",
    "\n",
    "    elif res == 4:\n",
    "        print('prediction : ङ')\n",
    "        character.configure(text= 'ङ,')\n",
    "        accuracy.configure(text=str(acc) + '%')\n",
    "        \n",
    "    elif res == 5:\n",
    "        print('prediction : च')\n",
    "        character.configure(text= 'च,')\n",
    "        accuracy.configure(text=str(acc) + '%')\n",
    "    \n",
    "    elif res == 6:\n",
    "        print('prediction : छ')\n",
    "        character.configure(text= 'छ,')\n",
    "        accuracy.configure(text=str(acc) + '%')\n",
    "        \n",
    "    elif res == 7:\n",
    "        print('prediction : ज')\n",
    "        character.configure(text= 'ज,')\n",
    "        accuracy.configure(text=str(acc) + '%')\n",
    "        \n",
    "    elif res == 8:\n",
    "        print('prediction : झ')\n",
    "        character.configure(text= 'झ,')\n",
    "        accuracy.configure(text=str(acc) + '%')\n",
    "        \n",
    "    elif res == 9:\n",
    "        print('prediction : ञ')\n",
    "        character.configure(text= 'ञ,')\n",
    "        accuracy.configure(text=str(acc) + '%')\n",
    "        \n",
    "    elif res == 10:\n",
    "        print('prediction : ट')\n",
    "        character.configure(text= 'ट,')\n",
    "        accuracy.configure(text=str(acc) + '%')\n",
    "        \n",
    "    elif res == 11:\n",
    "        print('prediction : ठ')\n",
    "        character.configure(text= 'ठ,')\n",
    "        accuracy.configure(text=str(acc) + '%')\n",
    "        \n",
    "    elif res == 12:\n",
    "        print('prediction : ड')\n",
    "        character.configure(text= 'ड,')\n",
    "        accuracy.configure(text=str(acc) + '%')\n",
    "        \n",
    "    elif res == 13:\n",
    "        print('prediction : ढ')\n",
    "        character.configure(text= 'ढ,')\n",
    "        accuracy.configure(text=str(acc) + '%')    \n",
    "    \n",
    "    elif res == 14:\n",
    "        print('prediction : ण')\n",
    "        character.configure(text= 'ण,')\n",
    "        accuracy.configure(text=str(acc) + '%')\n",
    "        \n",
    "    elif res == 15:\n",
    "        print('prediction : त')\n",
    "        character.configure(text= 'त,')\n",
    "        accuracy.configure(text=str(acc) + '%')\n",
    "        \n",
    "    elif res == 16:\n",
    "        print('prediction : थ')\n",
    "        character.configure(text= 'थ,')\n",
    "        accuracy.configure(text=str(acc) + '%')        \n",
    "        \n",
    "    elif res == 17:\n",
    "        print('prediction : द')\n",
    "        character.configure(text= 'द,')\n",
    "        accuracy.configure(text=str(acc) + '%')        \n",
    "        \n",
    "    elif res == 18:\n",
    "        print('prediction : ध')\n",
    "        character.configure(text= 'ध,')\n",
    "        accuracy.configure(text=str(acc) + '%')        \n",
    "        \n",
    "    elif res == 19:\n",
    "        print('prediction : न')\n",
    "        character.configure(text= 'न,')\n",
    "        accuracy.configure(text=str(acc) + '%')        \n",
    "        \n",
    "    elif res == 20:\n",
    "        print('prediction : प')\n",
    "        character.configure(text= 'प,')\n",
    "        accuracy.configure(text=str(acc) + '%')        \n",
    "        \n",
    "    elif res == 21:\n",
    "        print('prediction : फ')\n",
    "        character.configure(text= 'फ,')\n",
    "        accuracy.configure(text=str(acc) + '%')        \n",
    "        \n",
    "    elif res == 22:\n",
    "        print('prediction : ब')\n",
    "        character.configure(text= 'ब,')\n",
    "        accuracy.configure(text=str(acc) + '%')           \n",
    "        \n",
    "    elif res == 23:\n",
    "        print('prediction : भ')\n",
    "        character.configure(text= 'भ,')\n",
    "        accuracy.configure(text=str(acc) + '%')           \n",
    "        \n",
    "    elif res == 24:\n",
    "        print('prediction : म')\n",
    "        character.configure(text= 'म,')\n",
    "        accuracy.configure(text=str(acc) + '%')           \n",
    "        \n",
    "    elif res == 25:\n",
    "        print('prediction : य')\n",
    "        character.configure(text= 'य,')\n",
    "        accuracy.configure(text=str(acc) + '%')           \n",
    "        \n",
    "    elif res == 26:\n",
    "        print('prediction : र')\n",
    "        character.configure(text= 'र,')\n",
    "        accuracy.configure(text=str(acc) + '%')           \n",
    "        \n",
    "    elif res == 27:\n",
    "        print('prediction : ल')\n",
    "        character.configure(text= 'ल,')\n",
    "        accuracy.configure(text=str(acc) + '%')           \n",
    "        \n",
    "    elif res == 28:\n",
    "        print('prediction : व')\n",
    "        character.configure(text= 'व,')\n",
    "        accuracy.configure(text=str(acc) + '%')           \n",
    "        \n",
    "    elif res == 29:\n",
    "        print('prediction : श')\n",
    "        character.configure(text= 'श,')\n",
    "        accuracy.configure(text=str(acc) + '%')           \n",
    "        \n",
    "    elif res == 30:\n",
    "        print('prediction : ष')\n",
    "        character.configure(text= 'ष,')\n",
    "        accuracy.configure(text=str(acc) + '%')           \n",
    "        \n",
    "    elif res == 31:\n",
    "        print('prediction : स')\n",
    "        character.configure(text= 'स,')\n",
    "        accuracy.configure(text=str(acc) + '%')           \n",
    "        \n",
    "    elif res == 32:\n",
    "        print('prediction : ह')\n",
    "        character.configure(text= 'ह,')\n",
    "        accuracy.configure(text=str(acc) + '%')           \n",
    "        \n",
    "    elif res == 33:\n",
    "        print('prediction : क्ष')\n",
    "        character.configure(text= 'क्ष,')\n",
    "        accuracy.configure(text=str(acc) + '%')           \n",
    "        \n",
    "    elif res == 34:\n",
    "        print('prediction : त्र')\n",
    "        character.configure(text= 'त्र,')\n",
    "        accuracy.configure(text=str(acc) + '%')           \n",
    "        \n",
    "    elif res == 35:\n",
    "        print('prediction : ज्ञ')\n",
    "        character.configure(text= 'ज्ञ,')\n",
    "        accuracy.configure(text=str(acc) + '%')           \n",
    "        \n",
    "    elif res == 36:\n",
    "        print('prediction : ०')\n",
    "        character.configure(text= '०,')\n",
    "        accuracy.configure(text=str(acc) + '%')           \n",
    "        \n",
    "    elif res == 37:\n",
    "        print('prediction : १')\n",
    "        character.configure(text= '१,')\n",
    "        accuracy.configure(text=str(acc) + '%')           \n",
    "        \n",
    "    elif res == 38:\n",
    "        print('prediction : २')\n",
    "        character.configure(text= '२,')\n",
    "        accuracy.configure(text=str(acc) + '%')           \n",
    "        \n",
    "    elif res == 39:\n",
    "        print('prediction : ३')\n",
    "        character.configure(text= '३,')\n",
    "        accuracy.configure(text=str(acc) + '%')           \n",
    "        \n",
    "    elif res == 40:\n",
    "        print('prediction : ४')\n",
    "        character.configure(text= '४,')\n",
    "        accuracy.configure(text=str(acc) + '%')           \n",
    "        \n",
    "    elif res == 41:\n",
    "        print('prediction : ५')\n",
    "        character.configure(text= '५,')\n",
    "        accuracy.configure(text=str(acc) + '%')           \n",
    "        \n",
    "    elif res == 42:\n",
    "        print('prediction : ६')\n",
    "        character.configure(text= '६,')\n",
    "        accuracy.configure(text=str(acc) + '%')           \n",
    "        \n",
    "    elif res == 43:\n",
    "        print('prediction : ७')\n",
    "        character.configure(text= '७,')\n",
    "        accuracy.configure(text=str(acc) + '%')           \n",
    "        \n",
    "    elif res == 44:\n",
    "        print('prediction : ८')\n",
    "        character.configure(text= '८,')\n",
    "        accuracy.configure(text=str(acc) + '%')           \n",
    "        \n",
    "    elif res == 45:\n",
    "        print('prediction : ९')\n",
    "        character.configure(text= '९,')\n",
    "        accuracy.configure(text=str(acc) + '%')           \n",
    "        "
   ]
  },
  {
   "cell_type": "markdown",
   "metadata": {},
   "source": [
    "# GUI Application using Tkinter"
   ]
  },
  {
   "cell_type": "code",
   "execution_count": null,
   "metadata": {},
   "outputs": [],
   "source": [
    "# Final Application GUI\n",
    "import numpy as np\n",
    "import matplotlib.pyplot as plt\n",
    "from tkinter import *\n",
    "import tkinter as tk\n",
    "# loading Python Imaging Library \n",
    "from PIL import ImageTk, Image \n",
    "from keras.models import load_model\n",
    "\n",
    "# To get the dialog box to open when required \n",
    "from tkinter import filedialog \n",
    "\n",
    "classifier.load_weights('CNN_DevanagariHandWrittenCharacterRecognition.h5')\n",
    "\n",
    "def single_prediction(test_img):\n",
    "    \n",
    "    test_img_arr = image.img_to_array(test_img)\n",
    "    \n",
    "    test_img_arr = np.expand_dims(test_img_arr, axis = 0)\n",
    "#     accuracy = classifier.predict(test_img_arr)[0]\n",
    "    prediction = classifier.predict(test_img_arr)\n",
    "    \n",
    "    result = np.argmax(prediction[0])\n",
    "    acc = round(prediction[0][np.argmax(prediction[0])]*100,3)\n",
    "    print(acc)\n",
    "    res = classifier.predict([test_img_arr])[0]\n",
    "    \n",
    "    print(res, np.argmax(res), max(res))\n",
    "    determine_character(result, str(acc))\n",
    "    \n",
    "def model():\n",
    "    accuracy.configure(text=\"Predicting...\")\n",
    "    test_img = image.load_img('C:/Users/peris/Documents/Devanagari Character Recognition - 2020/Dataset/SinglePrediction/image.jpg', target_size = (32, 32, 3))\n",
    "    single_prediction(test_img)\n",
    "    plt.imshow(test_img)\n",
    "\n",
    "def delete_created_image():\n",
    "    os.remove('C:/Users/peris/Documents/Devanagari Character Recognition - 2020/Dataset/SinglePrediction/image.jpg')\n",
    "\n",
    "def clear():\n",
    "    delete_created_image()\n",
    "    path = \"C:/Users/peris/Documents/Devanagari Character Recognition - 2020/Dataset/SinglePrediction/placeholder.jpg\"\n",
    "    img = Image.open(path) \n",
    "    img = img.resize((300, 300), Image.ANTIALIAS)\n",
    "    img = ImageTk.PhotoImage(img) \n",
    "    panel = Label(root, image = img) \n",
    "\n",
    "    # set the image as img  \n",
    "    panel.image = img \n",
    "    panel.grid(row = 1, pady=5, padx=5)\n",
    "    character.configure(text=\"\")\n",
    "    accuracy.configure(text=\"Upload\")\n",
    "    \n",
    "def open_img(): \n",
    "    # Select the Imagename  from a folder  \n",
    "    x = openfilename() \n",
    "    print(x)\n",
    "    # opens the image \n",
    "    img = Image.open(x) \n",
    "      \n",
    "    # resize the image and apply a high-quality down sampling filter \n",
    "    img = img.resize((300, 300), Image.ANTIALIAS)\n",
    "    \n",
    "    #img = ImageOps.invert(img)\n",
    "    filename = 'C:/Users/peris/Documents/Devanagari Character Recognition - 2020/Dataset/SinglePrediction/image.jpg'\n",
    "    img.save(filename)\n",
    "    # PhotoImage class is used to add image to widgets, icons etc \n",
    "    img = ImageTk.PhotoImage(img) \n",
    "    \n",
    " \n",
    "    panel = Label(root, image = img) \n",
    "      \n",
    "    # set the image as img  \n",
    "    panel.image = img \n",
    "    panel.grid(row = 1, pady=5, padx=5)\n",
    "\n",
    "def openfilename(): \n",
    "  \n",
    "    # open file dialog box to select image \n",
    "    filename = filedialog.askopenfilename(title ='Upload Image') \n",
    "    return filename \n",
    "    \n",
    "# Create a window \n",
    "root = Tk() \n",
    "\n",
    "# Set Title as Image Loader \n",
    "root.title(\"Devanagari Character Recognition\") \n",
    "root.resizable(0,0)\n",
    "# Set the resolution of window \n",
    "root.geometry(\"700x450+400+150\") \n",
    "root['bg'] = '#000'\n",
    "\n",
    "path = \"C:/Users/peris/Documents/Devanagari Character Recognition - 2020/Dataset/SinglePrediction/placeholder.jpg\"\n",
    "img = Image.open(path) \n",
    "img = img.resize((300, 300), Image.ANTIALIAS)\n",
    "img = ImageTk.PhotoImage(img) \n",
    "panel = Label(root, image = img) \n",
    "\n",
    "# set the image as img  \n",
    "panel.image = img \n",
    "panel.grid(row = 1, pady=5, padx=5)\n",
    "\n",
    "icon = PhotoImage(file = \"C:/Users/peris/Documents/Devanagari Character Recognition - 2020/Dataset/SinglePrediction/icon.png\") \n",
    "  \n",
    "# Setting icon of master window \n",
    "root.iconphoto(False, icon) \n",
    "\n",
    "\n",
    "character = tk.Label(root, text=\"\", font=(\"Helvetica\", 70), bg=\"black\", fg=\"white\")\n",
    "character.grid(row=1, column=2,pady=2, padx=2)\n",
    "accuracy = tk.Label(root, text=\"     Upload     \", font=(\"Helvetica\", 38), bg=\"black\", fg=\"white\")\n",
    "accuracy.grid(row=1, column=5,pady=2, padx=2)\n",
    "\n",
    "#functions\n",
    "btnPredict=tk.Button(text=\"Predict\",command=model, height=2, width=30, relief=GROOVE, bg=\"white\", fg=\"black\")\n",
    "\n",
    "btnPredict.grid(row=3, column=5, pady=2, padx=5)\n",
    "\n",
    "btnClear=tk.Button(text=\"Clear\",command=clear, height=2, width=30, relief=GROOVE, bg=\"white\", fg=\"black\")\n",
    "btnClear.grid(row=3, column=0, pady=2)\n",
    "\n",
    "btn = Button(root, text ='Open Image', command = open_img, pady=2, padx=2, height=2, width=30, relief=GROOVE, bg=\"white\", fg=\"black\").grid(row = 0, columnspan = 4) \n",
    "\n",
    "root.mainloop() "
   ]
  },
  {
   "cell_type": "code",
   "execution_count": null,
   "metadata": {},
   "outputs": [],
   "source": []
  }
 ],
 "metadata": {
  "kernelspec": {
   "display_name": "base",
   "language": "python",
   "name": "python3"
  },
  "language_info": {
   "codemirror_mode": {
    "name": "ipython",
    "version": 3
   },
   "file_extension": ".py",
   "mimetype": "text/x-python",
   "name": "python",
   "nbconvert_exporter": "python",
   "pygments_lexer": "ipython3",
   "version": "3.11.4"
  }
 },
 "nbformat": 4,
 "nbformat_minor": 4
}
